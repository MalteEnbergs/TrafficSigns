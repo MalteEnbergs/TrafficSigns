{
 "cells": [
  {
   "cell_type": "code",
   "execution_count": 1,
   "metadata": {},
   "outputs": [],
   "source": [
    "#https://auth0.com/blog/image-processing-in-python-with-pillow/\n",
    "#website wo scaling funktion beschrieben war\n",
    "import os\n",
    "import matplotlib.pyplot as plt\n",
    "import csv\n",
    "from PIL import Image\n",
    "\n",
    "def readTrafficSigns():\n",
    "    images = []\n",
    "    labels = []\n",
    "    images_test = []\n",
    "    dir_path = os.path.dirname(os.path.realpath(\"ErstesModell.ipynb\"))\n",
    "    print(dir_path)\n",
    "    # loop over all 42 classes\n",
    "    for c in range(0,43):\n",
    "        if c < 10:\n",
    "            directory_number ='0000'+ format(c)\n",
    "        else:\n",
    "            directory_number ='000'+ format(c)\n",
    "        print(\"entering directory \"+ directory_number)\n",
    "        #finds the local directory\n",
    "        prefix = dir_path + '\\\\Images\\\\' + directory_number + '\\\\' \n",
    "        # subdirectory for class\n",
    "        gtFile = open(prefix + 'GT-'+ directory_number + '.csv') \n",
    "        # annotations file\n",
    "        gtReader = csv.reader(gtFile, delimiter=';') \n",
    "        # csv parser for annotations file\n",
    "        next(gtReader) \n",
    "        # skip header\n",
    "        # loop over all images in current annotations file\n",
    "        for row in gtReader:\n",
    "            image = Image.open(prefix + row[0])\n",
    "            new_image = image.resize((49, 49))\n",
    "            new_image.save('scaled.ppm')\n",
    "            images.append(plt.imread('scaled.ppm')) \n",
    "            # the 1th column is the filename\n",
    "            labels.append(row[7]) \n",
    "            # the 8th column is the label\n",
    "        gtFile.close()\n",
    "        \n",
    "        prefix_test = dir_path + '\\\\Images_Test\\\\'\n",
    "        gtTestFile =open(prefix_test + 'GT-final_test.csv' )\n",
    "        gtTestReader = csv.reader(gtTestFile, delimiter=';')\n",
    "        next(gtTestReader)\n",
    "        print(\"Train Images Loaded\")\n",
    "        for row in gtTestReader:\n",
    "            image = Image.open(prefix_test + row[0])\n",
    "            new_image = image.resize((49, 49))\n",
    "            new_image.save('scaled.ppm')\n",
    "            images_test.append(plt.imread('scaled.ppm'))             \n",
    "        gtTestFile.close()\n",
    "    return images, labels, images_test"
   ]
  },
  {
   "cell_type": "code",
   "execution_count": null,
   "metadata": {},
   "outputs": [],
   "source": [
    "trainImages, trainLabels, testImages = readTrafficSigns()\n",
    "print(len(trainLabels), len(trainImages))\n",
    "print(len(testImages))"
   ]
  },
  {
   "cell_type": "code",
   "execution_count": null,
   "metadata": {},
   "outputs": [],
   "source": [
    "plt.imshow(trainImages[20000])\n",
    "plt.show()"
   ]
  },
  {
   "cell_type": "code",
   "execution_count": null,
   "metadata": {},
   "outputs": [],
   "source": [
    "#https://scikit-learn.org/stable/modules/generated/sklearn.model_selection.train_test_split.html\n",
    "from sklearn.model_selection import train_test_split\n",
    "X_train, X_test, y_train, y_test = train_test_split(images, labels, test_size=0.10, random_state=42)\n",
    "plt.imshow(X_train[0])\n",
    "plt.show()"
   ]
  },
  {
   "cell_type": "code",
   "execution_count": null,
   "metadata": {},
   "outputs": [],
   "source": [
    "from functools import partial\n",
    "\n",
    "DefaultConv2D = partial(keras.layers.Conv2D,\n",
    "                        kernel_size=3, activation='relu', padding=\"SAME\")\n",
    "\n",
    "model = keras.models.Sequential([\n",
    "    DefaultConv2D(filters=64, kernel_size=7, input_shape=[28, 28, 1]),\n",
    "    keras.layers.MaxPooling2D(pool_size=2),\n",
    "    DefaultConv2D(filters=128),\n",
    "    DefaultConv2D(filters=128),\n",
    "    keras.layers.MaxPooling2D(pool_size=2),\n",
    "    DefaultConv2D(filters=256),\n",
    "    DefaultConv2D(filters=256),\n",
    "    keras.layers.MaxPooling2D(pool_size=2),\n",
    "    keras.layers.Flatten(),\n",
    "    keras.layers.Dense(units=128, activation='relu'),\n",
    "    keras.layers.Dropout(0.5),\n",
    "    keras.layers.Dense(units=64, activation='relu'),\n",
    "    keras.layers.Dropout(0.5),\n",
    "    keras.layers.Dense(units=10, activation='softmax'),\n",
    "])\n"
   ]
  },
  {
   "cell_type": "code",
   "execution_count": null,
   "metadata": {},
   "outputs": [],
   "source": []
  }
 ],
 "metadata": {
  "kernelspec": {
   "display_name": "Python 3",
   "language": "python",
   "name": "python3"
  },
  "language_info": {
   "codemirror_mode": {
    "name": "ipython",
    "version": 3
   },
   "file_extension": ".py",
   "mimetype": "text/x-python",
   "name": "python",
   "nbconvert_exporter": "python",
   "pygments_lexer": "ipython3",
   "version": "3.6.5"
  }
 },
 "nbformat": 4,
 "nbformat_minor": 4
}
