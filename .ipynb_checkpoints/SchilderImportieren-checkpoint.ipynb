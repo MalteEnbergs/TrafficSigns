{
 "cells": [
  {
   "cell_type": "code",
   "execution_count": 11,
   "metadata": {},
   "outputs": [],
   "source": [
    "#The German Traffic Sign Recognition Benchmark\n",
    "#\n",
    "# sample code for reading the traffic sign images and the\n",
    "# corresponding labels\n",
    "#\n",
    "# example:\n",
    "#            \n",
    "# trainImages, trainLabels = readTrafficSigns('GTSRB/Training')\n",
    "# print len(trainLabels), len(trainImages)\n",
    "# plt.imshow(trainImages[42])\n",
    "# plt.show()\n",
    "#\n",
    "# have fun, Christian\n",
    "\n",
    "import matplotlib.pyplot as plt\n",
    "import csv\n",
    "import os \n",
    "\n",
    "# function for reading the images\n",
    "# arguments: path to the traffic sign data, for example './GTSRB/Training'\n",
    "# returns: list of images, list of corresponding labels \n",
    "def readTrafficSigns():\n",
    "    #'''Reads traffic sign data for German Traffic Sign Recognition Benchmark.\n",
    "\n",
    "    #Arguments: path to the traffic sign data, for example './GTSRB/Training'\n",
    "    #Returns:   list of images, list of corresponding labels'''\n",
    "    images = [] # images\n",
    "    labels = [] # corresponding labels\n",
    "    dir_path = os.path.dirname(os.path.realpath(\"SchilderImportieren.ipynb\"))\n",
    "    print(dir_path)\n",
    "    # loop over all 42 classes\n",
    "    for c in range(0,43):\n",
    "        if c < 10:\n",
    "            directory_number ='0000'+ format(c)\n",
    "        else:\n",
    "            directory_number ='000'+ format(c)\n",
    "            \n",
    "        #prefix = 'C:/Users/Malte/Documents/ML/GTSRB/Final_Training/Images' + '/' + directory_number + '/' \n",
    "        \n",
    "        #finds the local directory\n",
    "        prefix = dir_path + '/Images' + '/' + directory_number + '/' \n",
    "        # subdirectory for class\n",
    "        gtFile = open(prefix + 'GT-'+ directory_number + '.csv') \n",
    "        # annotations file\n",
    "        gtReader = csv.reader(gtFile, delimiter=';') \n",
    "        # csv parser for annotations file\n",
    "        next(gtReader) \n",
    "        # skip header\n",
    "        # loop over all images in current annotations file\n",
    "        for row in gtReader:\n",
    "            images.append(plt.imread(prefix + row[0])) \n",
    "            # the 1th column is the filename\n",
    "            labels.append(row[7]) \n",
    "            # the 8th column is the label\n",
    "        gtFile.close()\n",
    "    return images, labels"
   ]
  },
  {
   "cell_type": "code",
   "execution_count": 12,
   "metadata": {},
   "outputs": [
    {
     "name": "stdout",
     "output_type": "stream",
     "text": [
      "C:\\Users\\Malte\\Schilder\n"
     ]
    }
   ],
   "source": [
    "trainImages, trainLabels = readTrafficSigns()\n"
   ]
  },
  {
   "cell_type": "code",
   "execution_count": 3,
   "metadata": {},
   "outputs": [
    {
     "name": "stdout",
     "output_type": "stream",
     "text": [
      "39209 39209\n"
     ]
    }
   ],
   "source": [
    "print(len(trainLabels), len(trainImages))"
   ]
  },
  {
   "cell_type": "code",
   "execution_count": 4,
   "metadata": {},
   "outputs": [
    {
     "data": {
      "image/png": "[encoded data removed]",
      "text/plain": [
       "<Figure size 432x288 with 1 Axes>"
      ]
     },
     "metadata": {
      "needs_background": "light"
     },
     "output_type": "display_data"
    }
   ],
   "source": [
    "plt.imshow(trainImages[0])\n",
    "plt.show()"
   ]
  },
  {
   "cell_type": "code",
   "execution_count": 5,
   "metadata": {},
   "outputs": [
    {
     "name": "stdout",
     "output_type": "stream",
     "text": [
      "36\n",
      "36\n",
      "3\n"
     ]
    }
   ],
   "source": [
    "print(len(trainImages[42]))\n",
    "print(len(trainImages[42][0]))\n",
    "print(len(trainImages[42][0][0]))\n",
    "#trainImages[42]"
   ]
  },
  {
   "cell_type": "code",
   "execution_count": 6,
   "metadata": {},
   "outputs": [
    {
     "data": {
      "image/png": "[encoded data removed]",
      "text/plain": [
       "<Figure size 432x288 with 1 Axes>"
      ]
     },
     "metadata": {
      "needs_background": "light"
     },
     "output_type": "display_data"
    }
   ],
   "source": [
    "testImage = [[[255,0,0],[255,0,0],[255,0,0]],\n",
    "             [[0,255,0],[0,255,0],[0,255,0]],\n",
    "             [[0,0,255],[0,0,255],[0,0,255]]]        \n",
    "plt.imshow(testImage)\n",
    "plt.show()"
   ]
  },
  {
   "cell_type": "code",
   "execution_count": 7,
   "metadata": {},
   "outputs": [
    {
     "data": {
      "text/plain": [
       "array([161,  46,  37], dtype=uint8)"
      ]
     },
     "execution_count": 7,
     "metadata": {},
     "output_type": "execute_result"
    }
   ],
   "source": [
    "trainImages[42][4][5] \n",
    "#RGB values at training Image 42, row 4, collum 5"
   ]
  },
  {
   "cell_type": "code",
   "execution_count": 8,
   "metadata": {},
   "outputs": [],
   "source": [
    "#https://auth0.com/blog/image-processing-in-python-with-pillow/\n",
    "#website wo scaling funktion beschrieben war\n",
    "import os\n",
    "import matplotlib.pyplot as plt\n",
    "import csv\n",
    "from PIL import Image\n",
    "images = []\n",
    "labels = []\n",
    "directory_number = '00000'\n",
    "dir_path = os.path.dirname(os.path.realpath(\"SchilderImportieren.ipynb\"))\n",
    "#finds the local directory\n",
    "prefix = dir_path + '/Images' + '/' + directory_number + '/' \n",
    "# subdirectory for class\n",
    "gtFile = open(prefix + 'GT-'+ directory_number + '.csv') \n",
    "# annotations file\n",
    "gtReader = csv.reader(gtFile, delimiter=';') \n",
    "# csv parser for annotations file\n",
    "next(gtReader) \n",
    "# skip header\n",
    "# loop over all images in current annotations file\n",
    "for row in gtReader:\n",
    "    image = Image.open(prefix + row[0])\n",
    "    new_image = image.resize((49, 49))\n",
    "    new_image.save('scaled.ppm')\n",
    "    images.append(plt.imread('scaled.ppm')) \n",
    "    # the 1th column is the filename\n",
    "    labels.append(row[7]) \n",
    "    # the 8th column is the label\n",
    "gtFile.close()"
   ]
  },
  {
   "cell_type": "code",
   "execution_count": 9,
   "metadata": {},
   "outputs": [
    {
     "data": {
      "image/png": "[encoded data removed]",
      "text/plain": [
       "<Figure size 432x288 with 1 Axes>"
      ]
     },
     "metadata": {
      "needs_background": "light"
     },
     "output_type": "display_data"
    }
   ],
   "source": [
    "plt.imshow(images[3])\n",
    "plt.show()"
   ]
  }
 ],
 "metadata": {
  "kernelspec": {
   "display_name": "Python 3",
   "language": "python",
   "name": "python3"
  },
  "language_info": {
   "codemirror_mode": {
    "name": "ipython",
    "version": 3
   },
   "file_extension": ".py",
   "mimetype": "text/x-python",
   "name": "python",
   "nbconvert_exporter": "python",
   "pygments_lexer": "ipython3",
   "version": "3.6.5"
  }
 },
 "nbformat": 4,
 "nbformat_minor": 4
}
